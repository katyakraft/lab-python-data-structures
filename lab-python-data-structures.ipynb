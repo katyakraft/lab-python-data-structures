{
 "cells": [
  {
   "cell_type": "markdown",
   "metadata": {
    "tags": []
   },
   "source": [
    "# Lab | Data Structures "
   ]
  },
  {
   "cell_type": "markdown",
   "metadata": {},
   "source": [
    "## Exercise: Managing Customer Orders\n",
    "\n",
    "As part of a business venture, you are starting an online store that sells various products. To ensure smooth operations, you need to develop a program that manages customer orders and inventory.\n",
    "\n",
    "Follow the steps below to complete the exercise:\n",
    "\n",
    "1. Define a list called `products` that contains the following items: \"t-shirt\", \"mug\", \"hat\", \"book\", \"keychain\".\n",
    "\n",
    "2. Create an empty dictionary called `inventory`.\n",
    "\n",
    "3. Ask the user to input the quantity of each product available in the inventory. Use the product names from the `products` list as keys in the `inventory` dictionary and assign the respective quantities as values.\n",
    "\n",
    "4. Create an empty set called `customer_orders`.\n",
    "\n",
    "5. Ask the user to input the name of three products that a customer wants to order (from those in the products list, meaning three products out of \"t-shirt\", \"mug\", \"hat\", \"book\" or \"keychain\". Add each product name to the `customer_orders` set.\n",
    "\n",
    "6. Print the products in the `customer_orders` set.\n",
    "\n",
    "7. Calculate the following order statistics:\n",
    "   - Total Products Ordered: The total number of products in the `customer_orders` set.\n",
    "   - Percentage of Products Ordered: The percentage of products ordered compared to the total available products.\n",
    "   \n",
    "   Store these statistics in a tuple called `order_status`.\n",
    "\n",
    "8. Print the order statistics using the following format:\n",
    "   ```\n",
    "   Order Statistics:\n",
    "   Total Products Ordered: <total_products_ordered>\n",
    "   Percentage of Products Ordered: <percentage_ordered>% \n",
    "   ```\n",
    "\n",
    "9. Update the inventory by subtracting 1 from the quantity of each product. Modify the `inventory` dictionary accordingly.\n",
    "\n",
    "10. Print the updated inventory, displaying the quantity of each product on separate lines.\n",
    "\n",
    "Solve the exercise by implementing the steps using the Python concepts of lists, dictionaries, sets, and basic input/output operations. "
   ]
  },
  {
   "cell_type": "code",
   "execution_count": 47,
   "metadata": {},
   "outputs": [
    {
     "name": "stdin",
     "output_type": "stream",
     "text": [
      "Add number of t-shirts 5\n",
      "Add number of mugs 5\n",
      "Add number of hats 5\n",
      "Add number of books 5\n",
      "Add number of keychains 5\n"
     ]
    },
    {
     "name": "stdout",
     "output_type": "stream",
     "text": [
      "{'t-shirt': 5, 'mug': 5, 'hat': 5, 'book': 5, 'keychain': 5}\n"
     ]
    }
   ],
   "source": [
    "products = [\"t-shirt\", \"mug\", \"hat\", \"book\", \"keychain\"]\n",
    "\n",
    "inventory = {}\n",
    "\n",
    "number_tshirts = int(input(\"Add number of t-shirts\")) \n",
    "inventory['t-shirt'] = number_tshirts\n",
    "\n",
    "number_mugs = int(input(\"Add number of mugs\")) \n",
    "inventory['mug'] = number_mugs\n",
    "\n",
    "number_hats = int(input(\"Add number of hats\")) \n",
    "inventory['hat'] = number_hats\n",
    "\n",
    "number_books = int(input(\"Add number of books\")) \n",
    "inventory['book'] = number_books\n",
    "\n",
    "number_keychains = int(input(\"Add number of keychains\")) \n",
    "inventory['keychain'] = number_keychains\n",
    "\n",
    "print (inventory)\n"
   ]
  },
  {
   "cell_type": "code",
   "execution_count": 57,
   "metadata": {},
   "outputs": [
    {
     "name": "stdin",
     "output_type": "stream",
     "text": [
      "Add your order mug\n",
      "Add your order hat\n",
      "Add your order book\n"
     ]
    },
    {
     "name": "stdout",
     "output_type": "stream",
     "text": [
      "Customers Orders Set has: mug\n",
      "Customers Orders Set has: book\n",
      "Customers Orders Set has: hat\n"
     ]
    }
   ],
   "source": [
    "customer_orders = set()\n",
    "\n",
    "x=0\n",
    "while x != 3:\n",
    "    value = input(\"Add your order\")\n",
    "    if(value in products):\n",
    "        x += 1\n",
    "        customer_orders.add(value)\n",
    "    else:\n",
    "        print(\"The item you entered is not in the product list\")\n",
    "\n",
    "for item in customer_orders:\n",
    "    print(f\"Customers Orders Set has: {item}\") \n"
   ]
  },
  {
   "cell_type": "code",
   "execution_count": 71,
   "metadata": {},
   "outputs": [
    {
     "name": "stdout",
     "output_type": "stream",
     "text": [
      "3\n"
     ]
    }
   ],
   "source": [
    "print(len(customer_orders))"
   ]
  },
  {
   "cell_type": "code",
   "execution_count": 77,
   "metadata": {},
   "outputs": [
    {
     "name": "stdout",
     "output_type": "stream",
     "text": [
      "12.0\n"
     ]
    }
   ],
   "source": [
    "total_products_ordered = len(customer_orders)\n",
    "\n",
    "total_available_products = sum(inventory.values())\n",
    "\n",
    "percentage_products_ordered = (total_products_ordered/total_available_products*100)\n",
    "\n"
   ]
  },
  {
   "cell_type": "code",
   "execution_count": 84,
   "metadata": {},
   "outputs": [],
   "source": [
    "order_status = (total_products_ordered, percentage_products_ordered)\n"
   ]
  },
  {
   "cell_type": "code",
   "execution_count": 90,
   "metadata": {},
   "outputs": [
    {
     "name": "stdout",
     "output_type": "stream",
     "text": [
      "Order Statistics:\n",
      "Total Products Ordered: 3\n",
      "Percentage of Products Ordered: 12.0%\n"
     ]
    }
   ],
   "source": [
    "print(\"Order Statistics:\")\n",
    "print(f\"Total Products Ordered: {total_products_ordered}\")\n",
    "print(f\"Percentage of Products Ordered: {percentage_products_ordered}%\")"
   ]
  },
  {
   "cell_type": "code",
   "execution_count": 94,
   "metadata": {},
   "outputs": [
    {
     "name": "stdout",
     "output_type": "stream",
     "text": [
      "Product t-shirt has 3 units\n",
      "Product mug has 3 units\n",
      "Product hat has 3 units\n",
      "Product book has 3 units\n",
      "Product keychain has 3 units\n"
     ]
    }
   ],
   "source": [
    "#Update the inventory by subtracting 1 from the quantity of each product. Modify the inventory dictionary accordingly.\n",
    "#Print the updated inventory, displaying the quantity of each product on separate lines.\n",
    "\n",
    "for item in inventory:\n",
    "    inventory[item] = inventory[item]-1 \n",
    "    print(f\"Product {item} has {inventory[item]} units\")\n",
    "    \n",
    "    "
   ]
  },
  {
   "cell_type": "code",
   "execution_count": null,
   "metadata": {},
   "outputs": [],
   "source": [
    "#Finished!"
   ]
  }
 ],
 "metadata": {
  "kernelspec": {
   "display_name": "Python 3 (ipykernel)",
   "language": "python",
   "name": "python3"
  },
  "language_info": {
   "codemirror_mode": {
    "name": "ipython",
    "version": 3
   },
   "file_extension": ".py",
   "mimetype": "text/x-python",
   "name": "python",
   "nbconvert_exporter": "python",
   "pygments_lexer": "ipython3",
   "version": "3.12.4"
  }
 },
 "nbformat": 4,
 "nbformat_minor": 4
}
